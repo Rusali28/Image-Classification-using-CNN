{
  "nbformat": 4,
  "nbformat_minor": 0,
  "metadata": {
    "colab": {
      "name": "demo.ipynb",
      "provenance": [],
      "toc_visible": true
    },
    "kernelspec": {
      "name": "python3",
      "display_name": "Python 3"
    },
    "accelerator": "GPU"
  },
  "cells": [
    {
      "cell_type": "markdown",
      "metadata": {
        "id": "CWevci6xvTMS"
      },
      "source": [
        "## **Importing required libraries**"
      ]
    },
    {
      "cell_type": "code",
      "metadata": {
        "id": "X_NYV12uvPn2"
      },
      "source": [
        "import tensorflow as tf\n",
        "from keras.preprocessing import image\n",
        "from keras.preprocessing.image import ImageDataGenerator\n",
        "import numpy as np\n",
        "from test import *"
      ],
      "execution_count": 3,
      "outputs": []
    },
    {
      "cell_type": "code",
      "metadata": {
        "colab": {
          "base_uri": "https://localhost:8080/"
        },
        "id": "21kN8VqrwGPk",
        "outputId": "3c63bb8a-bbb2-4bac-ef37-ac2c921f358e"
      },
      "source": [
        "test_datagen = ImageDataGenerator(rescale = 1./255)\n",
        "test_set = test_datagen.flow_from_directory(\"/content/drive/MyDrive/DATA/dataset/test_set\",\n",
        "                                            target_size = (64, 64),\n",
        "                                            batch_size = 32,\n",
        "                                            class_mode = 'binary')"
      ],
      "execution_count": 4,
      "outputs": [
        {
          "output_type": "stream",
          "text": [
            "Found 2018 images belonging to 2 classes.\n"
          ],
          "name": "stdout"
        }
      ]
    },
    {
      "cell_type": "markdown",
      "metadata": {
        "id": "Si5_NZkuv2jx"
      },
      "source": [
        "## **Loading the base_model and model**"
      ]
    },
    {
      "cell_type": "code",
      "metadata": {
        "id": "bl6Omzmbv1JK"
      },
      "source": [
        "base_model = tf.keras.models.load_model('base_model.h5')\n",
        "model = tf.keras.models.load_model('model.h5')"
      ],
      "execution_count": 5,
      "outputs": []
    },
    {
      "cell_type": "markdown",
      "metadata": {
        "id": "FuvmRRLqw4Vy"
      },
      "source": [
        "## **Evaluating base_model**"
      ]
    },
    {
      "cell_type": "code",
      "metadata": {
        "colab": {
          "base_uri": "https://localhost:8080/"
        },
        "id": "g2rTu0YKw1dV",
        "outputId": "023669e7-b4c0-4acf-afd5-e61aee6fb6ab"
      },
      "source": [
        "base_model.evaluate(test_set)"
      ],
      "execution_count": 6,
      "outputs": [
        {
          "output_type": "stream",
          "text": [
            "64/64 [==============================] - 477s 7s/step - loss: 0.5188 - accuracy: 0.7621\n"
          ],
          "name": "stdout"
        },
        {
          "output_type": "execute_result",
          "data": {
            "text/plain": [
              "[0.5188426971435547, 0.7621407508850098]"
            ]
          },
          "metadata": {
            "tags": []
          },
          "execution_count": 6
        }
      ]
    },
    {
      "cell_type": "markdown",
      "metadata": {
        "id": "FJp88s2vw9Iq"
      },
      "source": [
        "## **Evaluating new model with a second conv2D and MaxPool**"
      ]
    },
    {
      "cell_type": "code",
      "metadata": {
        "colab": {
          "base_uri": "https://localhost:8080/"
        },
        "id": "GtjPMxxNw7rU",
        "outputId": "23536363-f211-4398-b92d-75f73ed81f44"
      },
      "source": [
        "model.evaluate(test_set)"
      ],
      "execution_count": 7,
      "outputs": [
        {
          "output_type": "stream",
          "text": [
            "64/64 [==============================] - 7s 101ms/step - loss: 0.6071 - accuracy: 0.6769\n"
          ],
          "name": "stdout"
        },
        {
          "output_type": "execute_result",
          "data": {
            "text/plain": [
              "[0.6071261167526245, 0.6769078373908997]"
            ]
          },
          "metadata": {
            "tags": []
          },
          "execution_count": 7
        }
      ]
    },
    {
      "cell_type": "markdown",
      "metadata": {
        "id": "JV8kA5GMxGvB"
      },
      "source": [
        "### **Testing performance of the models with the same image**"
      ]
    },
    {
      "cell_type": "code",
      "metadata": {
        "colab": {
          "base_uri": "https://localhost:8080/"
        },
        "id": "e8v4VO6LxJo3",
        "outputId": "97e256af-3c68-4124-9a12-c86c0a2df56f"
      },
      "source": [
        "path = '/content/Unknown.png'\n",
        "predict(base_model, path)\n",
        "predict(model, path)"
      ],
      "execution_count": 10,
      "outputs": [
        {
          "output_type": "stream",
          "text": [
            "Entered image is a Dog\n",
            "Entered image is a Dog\n"
          ],
          "name": "stdout"
        }
      ]
    }
  ]
}