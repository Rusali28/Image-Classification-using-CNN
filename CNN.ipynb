{
  "nbformat": 4,
  "nbformat_minor": 0,
  "metadata": {
    "accelerator": "GPU",
    "colab": {
      "name": "CNN.ipynb",
      "provenance": []
    },
    "kernelspec": {
      "display_name": "Python 3",
      "name": "python3"
    }
  },
  "cells": [
    {
      "cell_type": "code",
      "metadata": {
        "id": "Bgg-uJqCDwS5"
      },
      "source": [
        "import tensorflow as tf"
      ],
      "execution_count": null,
      "outputs": []
    },
    {
      "cell_type": "code",
      "metadata": {
        "id": "1hy7oFoOD8bs"
      },
      "source": [
        "from keras.preprocessing.image import ImageDataGenerator"
      ],
      "execution_count": null,
      "outputs": []
    },
    {
      "cell_type": "code",
      "metadata": {
        "id": "ipQGpyV7EJQd"
      },
      "source": [
        "train_datagen = ImageDataGenerator(rescale = 1./255, shear_range = 0.2, zoom_range = 0.2, horizontal_flip = True )"
      ],
      "execution_count": null,
      "outputs": []
    },
    {
      "cell_type": "code",
      "metadata": {
        "id": "BM7_IIoSELtz"
      },
      "source": [
        "test_datagen = ImageDataGenerator(rescale = 1./255)"
      ],
      "execution_count": null,
      "outputs": []
    },
    {
      "cell_type": "code",
      "metadata": {
        "colab": {
          "base_uri": "https://localhost:8080/"
        },
        "id": "pKEB_nqnEQWS",
        "outputId": "2d8511ca-3da1-4042-cbba-15cdb5d7e3f6"
      },
      "source": [
        "from google.colab import drive\n",
        "drive.mount(\"/content/gdrive\")"
      ],
      "execution_count": null,
      "outputs": [
        {
          "output_type": "stream",
          "text": [
            "Drive already mounted at /content/gdrive; to attempt to forcibly remount, call drive.mount(\"/content/gdrive\", force_remount=True).\n"
          ],
          "name": "stdout"
        }
      ]
    },
    {
      "cell_type": "code",
      "metadata": {
        "colab": {
          "base_uri": "https://localhost:8080/"
        },
        "id": "8PT2qz2u9a4Y",
        "outputId": "2ca71177-e2ab-49e2-92be-b5f05faf7a4b"
      },
      "source": [
        "training_set = train_datagen.flow_from_directory('/content/gdrive/My Drive/dataset/training_set',\n",
        "                                                 target_size = (64, 64),\n",
        "                                                 batch_size = 32,\n",
        "                                                 class_mode = 'binary')"
      ],
      "execution_count": null,
      "outputs": [
        {
          "output_type": "stream",
          "text": [
            "Found 8005 images belonging to 2 classes.\n"
          ],
          "name": "stdout"
        }
      ]
    },
    {
      "cell_type": "code",
      "metadata": {
        "colab": {
          "base_uri": "https://localhost:8080/"
        },
        "id": "OTdUtVTKl_bo",
        "outputId": "5838da41-7044-4378-a513-2eddf2ccfdfc"
      },
      "source": [
        "training_set[1]"
      ],
      "execution_count": null,
      "outputs": [
        {
          "output_type": "execute_result",
          "data": {
            "text/plain": [
              "(array([[[[0.12972116, 0.20629615, 0.4129017 ],\n",
              "          [0.13544852, 0.21387988, 0.42172304],\n",
              "          [0.13967949, 0.21811086, 0.42595398],\n",
              "          ...,\n",
              "          [0.13107003, 0.17544426, 0.34820393],\n",
              "          [0.1393457 , 0.19293694, 0.38195232],\n",
              "          [0.14866146, 0.21739456, 0.42038855]],\n",
              " \n",
              "         [[0.13293576, 0.20951074, 0.4161163 ],\n",
              "          [0.13894463, 0.21737601, 0.42521915],\n",
              "          [0.14101642, 0.2194478 , 0.42729095],\n",
              "          ...,\n",
              "          [0.12863089, 0.17300512, 0.34576482],\n",
              "          [0.1393457 , 0.19293694, 0.38195232],\n",
              "          [0.14273888, 0.21147196, 0.41446596]],\n",
              " \n",
              "         [[0.15643464, 0.20401748, 0.3848522 ],\n",
              "          [0.15310802, 0.21349111, 0.43105838],\n",
              "          [0.14085595, 0.22477774, 0.44716898],\n",
              "          ...,\n",
              "          [0.13083178, 0.18581341, 0.35326937],\n",
              "          [0.14167155, 0.20250808, 0.3879008 ],\n",
              "          [0.15192908, 0.22066218, 0.42365617]],\n",
              " \n",
              "         ...,\n",
              " \n",
              "         [[0.85152334, 0.75348616, 0.6672123 ],\n",
              "          [0.88503945, 0.78700024, 0.7007257 ],\n",
              "          [0.8916405 , 0.7936013 , 0.70732677],\n",
              "          ...,\n",
              "          [0.37952292, 0.18623978, 0.08532099],\n",
              "          [0.37414607, 0.18103983, 0.08702555],\n",
              "          [0.36692852, 0.18727237, 0.0935892 ]],\n",
              " \n",
              "         [[0.8628686 , 0.76575756, 0.6797925 ],\n",
              "          [0.8725935 , 0.7745543 , 0.6882798 ],\n",
              "          [0.88176465, 0.78372544, 0.69745094],\n",
              "          ...,\n",
              "          [0.42397338, 0.26568413, 0.15920112],\n",
              "          [0.3846965 , 0.2251945 , 0.12904848],\n",
              "          [0.3518933 , 0.18885826, 0.10463981]],\n",
              " \n",
              "         [[0.8417991 , 0.74468803, 0.65872294],\n",
              "          [0.8530956 , 0.7550564 , 0.6687819 ],\n",
              "          [0.87914777, 0.78110856, 0.694834  ],\n",
              "          ...,\n",
              "          [0.5541782 , 0.47966838, 0.35665214],\n",
              "          [0.5173977 , 0.4177983 , 0.3153069 ],\n",
              "          [0.4952565 , 0.3647059 , 0.28534696]]],\n",
              " \n",
              " \n",
              "        [[[0.34438425, 0.42281982, 0.2036995 ],\n",
              "          [0.35295957, 0.43269384, 0.20285109],\n",
              "          [0.34907693, 0.42662323, 0.20517547],\n",
              "          ...,\n",
              "          [0.8440907 , 0.8153681 , 0.72104996],\n",
              "          [0.8459972 , 0.9032036 , 0.8164457 ],\n",
              "          [0.9134218 , 0.9453686 , 0.87798065]],\n",
              " \n",
              "         [[0.3503787 , 0.4170823 , 0.23067631],\n",
              "          [0.36416298, 0.4337484 , 0.23059824],\n",
              "          [0.3611642 , 0.42678514, 0.2207877 ],\n",
              "          ...,\n",
              "          [0.78870636, 0.8053657 , 0.69689125],\n",
              "          [0.80874944, 0.8854884 , 0.79127157],\n",
              "          [0.8750419 , 0.9247369 , 0.8438028 ]],\n",
              " \n",
              "         [[0.32859582, 0.40332758, 0.22411293],\n",
              "          [0.35311225, 0.43349877, 0.24756686],\n",
              "          [0.38613313, 0.45172545, 0.24364838],\n",
              "          ...,\n",
              "          [0.78118277, 0.8351353 , 0.7302479 ],\n",
              "          [0.8030682 , 0.8744339 , 0.783495  ],\n",
              "          [0.8141578 , 0.88870037, 0.78899854]],\n",
              " \n",
              "         ...,\n",
              " \n",
              "         [[0.5159461 , 0.46805295, 0.35134757],\n",
              "          [0.56293637, 0.50346637, 0.39648953],\n",
              "          [0.5478896 , 0.50083077, 0.39887   ],\n",
              "          ...,\n",
              "          [0.9698609 , 0.912582  , 0.8008995 ],\n",
              "          [0.94886136, 0.8610073 , 0.6998494 ],\n",
              "          [0.8932853 , 0.8101819 , 0.64241916]],\n",
              " \n",
              "         [[0.56158715, 0.5173108 , 0.4125287 ],\n",
              "          [0.57877755, 0.53514886, 0.43043506],\n",
              "          [0.5752287 , 0.5281699 , 0.42620903],\n",
              "          ...,\n",
              "          [0.9669473 , 0.9077394 , 0.8278144 ],\n",
              "          [0.8726144 , 0.76372385, 0.6233094 ],\n",
              "          [0.73758405, 0.6247988 , 0.47651327]],\n",
              " \n",
              "         [[0.5282078 , 0.48943073, 0.3789295 ],\n",
              "          [0.48739284, 0.47651678, 0.35826698],\n",
              "          [0.48343956, 0.48094144, 0.36018896],\n",
              "          ...,\n",
              "          [0.80871683, 0.7302043 , 0.64250934],\n",
              "          [0.7331813 , 0.6469804 , 0.5127444 ],\n",
              "          [0.65876836, 0.56887114, 0.43999195]]],\n",
              " \n",
              " \n",
              "        [[[0.16862746, 0.16470589, 0.14901961],\n",
              "          [0.16862746, 0.16470589, 0.14901961],\n",
              "          [0.16862746, 0.16470589, 0.14901961],\n",
              "          ...,\n",
              "          [0.13333334, 0.13725491, 0.11764707],\n",
              "          [0.13333334, 0.13725491, 0.11764707],\n",
              "          [0.13333334, 0.13725491, 0.11764707]],\n",
              " \n",
              "         [[0.16862746, 0.16470589, 0.14901961],\n",
              "          [0.16862746, 0.16470589, 0.14901961],\n",
              "          [0.16862746, 0.16470589, 0.14901961],\n",
              "          ...,\n",
              "          [0.13333334, 0.13725491, 0.11764707],\n",
              "          [0.13333334, 0.13725491, 0.11764707],\n",
              "          [0.13333334, 0.13725491, 0.11764707]],\n",
              " \n",
              "         [[0.16862746, 0.16470589, 0.14901961],\n",
              "          [0.16862746, 0.16470589, 0.14901961],\n",
              "          [0.16862746, 0.16470589, 0.14901961],\n",
              "          ...,\n",
              "          [0.13333334, 0.13725491, 0.11764707],\n",
              "          [0.13333334, 0.13725491, 0.11764707],\n",
              "          [0.13333334, 0.13725491, 0.11764707]],\n",
              " \n",
              "         ...,\n",
              " \n",
              "         [[0.25490198, 0.23529413, 0.2509804 ],\n",
              "          [0.25490198, 0.23529413, 0.2509804 ],\n",
              "          [0.25490198, 0.23529413, 0.2509804 ],\n",
              "          ...,\n",
              "          [0.07843138, 0.08235294, 0.0627451 ],\n",
              "          [0.07843138, 0.08235294, 0.0627451 ],\n",
              "          [0.07843138, 0.08235294, 0.0627451 ]],\n",
              " \n",
              "         [[0.25490198, 0.23529413, 0.2509804 ],\n",
              "          [0.25490198, 0.23529413, 0.2509804 ],\n",
              "          [0.25490198, 0.23529413, 0.2509804 ],\n",
              "          ...,\n",
              "          [0.07843138, 0.08235294, 0.0627451 ],\n",
              "          [0.07843138, 0.08235294, 0.0627451 ],\n",
              "          [0.07843138, 0.08235294, 0.0627451 ]],\n",
              " \n",
              "         [[0.25490198, 0.23529413, 0.2509804 ],\n",
              "          [0.25490198, 0.23529413, 0.2509804 ],\n",
              "          [0.25490198, 0.23529413, 0.2509804 ],\n",
              "          ...,\n",
              "          [0.07843138, 0.08235294, 0.0627451 ],\n",
              "          [0.07843138, 0.08235294, 0.0627451 ],\n",
              "          [0.07843138, 0.08235294, 0.0627451 ]]],\n",
              " \n",
              " \n",
              "        ...,\n",
              " \n",
              " \n",
              "        [[[0.48708066, 0.4047277 , 0.38511986],\n",
              "          [0.537104  , 0.4547511 , 0.43514326],\n",
              "          [0.5277415 , 0.44538856, 0.4257807 ],\n",
              "          ...,\n",
              "          [0.37270662, 0.3021184 , 0.29427525],\n",
              "          [0.35972315, 0.28913492, 0.28129178],\n",
              "          [0.35236746, 0.28177923, 0.2739361 ]],\n",
              " \n",
              "         [[0.4769392 , 0.39522886, 0.37529972],\n",
              "          [0.50623846, 0.42454618, 0.404608  ],\n",
              "          [0.46729437, 0.38562018, 0.36567295],\n",
              "          ...,\n",
              "          [0.3819149 , 0.3112423 , 0.3032304 ],\n",
              "          [0.36180893, 0.29122066, 0.28337753],\n",
              "          [0.3694227 , 0.29883444, 0.2909913 ]],\n",
              " \n",
              "         [[0.52262485, 0.44722468, 0.42414045],\n",
              "          [0.44930032, 0.37391818, 0.35082492],\n",
              "          [0.51462054, 0.43925646, 0.41615418],\n",
              "          ...,\n",
              "          [0.3569106 , 0.2859432 , 0.27734184],\n",
              "          [0.34278044, 0.27219218, 0.26434904],\n",
              "          [0.39592052, 0.32533228, 0.31748915]],\n",
              " \n",
              "         ...,\n",
              " \n",
              "         [[0.5080853 , 0.43181556, 0.42702934],\n",
              "          [0.51001084, 0.4528634 , 0.44067964],\n",
              "          [0.6625543 , 0.6210399 , 0.6045422 ],\n",
              "          ...,\n",
              "          [0.55987704, 0.45440248, 0.4213189 ],\n",
              "          [0.55170393, 0.4438122 , 0.4084792 ],\n",
              "          [0.49998507, 0.3921385 , 0.3568417 ]],\n",
              " \n",
              "         [[0.50955343, 0.43328363, 0.42849743],\n",
              "          [0.5527814 , 0.49563393, 0.4834502 ],\n",
              "          [0.7451928 , 0.7036784 , 0.68718076],\n",
              "          ...,\n",
              "          [0.5262111 , 0.43564144, 0.4112243 ],\n",
              "          [0.5727643 , 0.47946334, 0.4543815 ],\n",
              "          [0.49322686, 0.3999621 , 0.3748983 ]],\n",
              " \n",
              "         [[0.4489606 , 0.37269086, 0.36790466],\n",
              "          [0.44548297, 0.38833553, 0.3761518 ],\n",
              "          [0.71908206, 0.6775677 , 0.66107   ],\n",
              "          ...,\n",
              "          [0.49780658, 0.41922557, 0.39960808],\n",
              "          [0.49438947, 0.4128727 , 0.39368293],\n",
              "          [0.36972654, 0.2882278 , 0.26904708]]],\n",
              " \n",
              " \n",
              "        [[[0.23550305, 0.20980991, 0.16770528],\n",
              "          [0.23548248, 0.20976107, 0.16765128],\n",
              "          [0.23214628, 0.20639658, 0.16428167],\n",
              "          ...,\n",
              "          [0.31679723, 0.39039615, 0.3910404 ],\n",
              "          [0.31836092, 0.38003525, 0.3861029 ],\n",
              "          [0.31835577, 0.3800378 , 0.38606182]],\n",
              " \n",
              "         [[0.26097596, 0.27030805, 0.23457165],\n",
              "          [0.26095536, 0.27025923, 0.23451766],\n",
              "          [0.23696579, 0.24624135, 0.21049465],\n",
              "          ...,\n",
              "          [0.30926973, 0.3779482 , 0.40956292],\n",
              "          [0.32472917, 0.37685114, 0.43704873],\n",
              "          [0.32472402, 0.37685373, 0.4370076 ]],\n",
              " \n",
              "         [[0.18274498, 0.20043562, 0.17995633],\n",
              "          [0.18281439, 0.20049989, 0.18000776],\n",
              "          [0.19342001, 0.21110037, 0.19059537],\n",
              "          ...,\n",
              "          [0.308887  , 0.38157207, 0.40844688],\n",
              "          [0.31988305, 0.3876849 , 0.42351222],\n",
              "          [0.3198882 , 0.38767463, 0.42353022]],\n",
              " \n",
              "         ...,\n",
              " \n",
              "         [[0.09159946, 0.11520102, 0.07969046],\n",
              "          [0.09160975, 0.11521902, 0.07968533],\n",
              "          [0.07753409, 0.08742013, 0.07635858],\n",
              "          ...,\n",
              "          [0.07066691, 0.11867119, 0.04957101],\n",
              "          [0.06109416, 0.10909331, 0.03999569],\n",
              "          [0.06107103, 0.10906503, 0.03996998]],\n",
              " \n",
              "         [[0.08812739, 0.10773523, 0.08420582],\n",
              "          [0.08812482, 0.10773267, 0.08420325],\n",
              "          [0.08962039, 0.09333023, 0.08887842],\n",
              "          ...,\n",
              "          [0.06194418, 0.11292458, 0.04233634],\n",
              "          [0.07620329, 0.12718369, 0.05659545],\n",
              "          [0.07620072, 0.12718111, 0.05659288]],\n",
              " \n",
              "         [[0.0857344 , 0.10534225, 0.08181284],\n",
              "          [0.08574469, 0.10535254, 0.08182313],\n",
              "          [0.08803436, 0.0917442 , 0.0872924 ],\n",
              "          ...,\n",
              "          [0.06103253, 0.11201292, 0.04142468],\n",
              "          [0.07460725, 0.12558766, 0.05499941],\n",
              "          [0.07461754, 0.12559792, 0.0550097 ]]],\n",
              " \n",
              " \n",
              "        [[[0.27001396, 0.24648453, 0.18708669],\n",
              "          [0.23967278, 0.22631653, 0.17415233],\n",
              "          [0.20514373, 0.20166431, 0.15410024],\n",
              "          ...,\n",
              "          [0.20673926, 0.20745684, 0.17824964],\n",
              "          [0.26890022, 0.25908372, 0.2107105 ],\n",
              "          [0.26169583, 0.251256  , 0.19790143]],\n",
              " \n",
              "         [[0.28296608, 0.25964105, 0.21115158],\n",
              "          [0.22372057, 0.21393876, 0.16712944],\n",
              "          [0.22620785, 0.22142562, 0.17261074],\n",
              "          ...,\n",
              "          [0.22847185, 0.23355569, 0.20418857],\n",
              "          [0.25741968, 0.26323542, 0.20858057],\n",
              "          [0.25882354, 0.2627451 , 0.19382429]],\n",
              " \n",
              "         [[0.29283348, 0.27279758, 0.2012842 ],\n",
              "          [0.20468695, 0.19434081, 0.15148185],\n",
              "          [0.220228  , 0.21412663, 0.17454578],\n",
              "          ...,\n",
              "          [0.16599707, 0.16861561, 0.15527287],\n",
              "          [0.18896973, 0.190759  , 0.16737977],\n",
              "          [0.25882354, 0.2627451 , 0.20698081]],\n",
              " \n",
              "         ...,\n",
              " \n",
              "         [[0.07598353, 0.07598353, 0.06814039],\n",
              "          [0.0808799 , 0.0808799 , 0.07303676],\n",
              "          [0.09614445, 0.09024885, 0.081519  ],\n",
              "          ...,\n",
              "          [0.23849685, 0.2418579 , 0.2151041 ],\n",
              "          [0.2024509 , 0.19888029, 0.17159574],\n",
              "          [0.2594887 , 0.24941018, 0.21352823]],\n",
              " \n",
              "         [[0.07674881, 0.07674881, 0.06890567],\n",
              "          [0.08988921, 0.08988921, 0.08204606],\n",
              "          [0.11964607, 0.1079022 , 0.09771028],\n",
              "          ...,\n",
              "          [0.39237455, 0.39930764, 0.36746687],\n",
              "          [0.23542793, 0.23266535, 0.1999457 ],\n",
              "          [0.27245563, 0.26988128, 0.22809124]],\n",
              " \n",
              "         [[0.07100593, 0.07100593, 0.06316279],\n",
              "          [0.09746034, 0.09746034, 0.08961721],\n",
              "          [0.12514567, 0.11404742, 0.10398464],\n",
              "          ...,\n",
              "          [0.5915361 , 0.6015507 , 0.54803354],\n",
              "          [0.3650401 , 0.36923635, 0.32915306],\n",
              "          [0.18667977, 0.19549525, 0.16972953]]]], dtype=float32),\n",
              " array([0., 1., 0., 0., 0., 0., 1., 0., 1., 1., 1., 0., 1., 0., 1., 1., 0.,\n",
              "        1., 1., 0., 1., 1., 1., 0., 1., 0., 0., 0., 0., 1., 1., 0.],\n",
              "       dtype=float32))"
            ]
          },
          "metadata": {
            "tags": []
          },
          "execution_count": 52
        }
      ]
    },
    {
      "cell_type": "code",
      "metadata": {
        "colab": {
          "base_uri": "https://localhost:8080/"
        },
        "id": "dNRDnyW1EIyB",
        "outputId": "b359b6ae-d4ea-4f67-df10-57918233e786"
      },
      "source": [
        "test_set = test_datagen.flow_from_directory('/content/gdrive/My Drive/dataset/test_set',\n",
        "                                            target_size = (64, 64),\n",
        "                                            batch_size = 32,\n",
        "                                            class_mode = 'binary')\n"
      ],
      "execution_count": null,
      "outputs": [
        {
          "output_type": "stream",
          "text": [
            "Found 2000 images belonging to 2 classes.\n"
          ],
          "name": "stdout"
        }
      ]
    },
    {
      "cell_type": "code",
      "metadata": {
        "id": "UCewyCKwIL93"
      },
      "source": [
        "from tensorflow.keras.models import Sequential"
      ],
      "execution_count": null,
      "outputs": []
    },
    {
      "cell_type": "code",
      "metadata": {
        "id": "YLcv3Y4yImnk"
      },
      "source": [
        "from tensorflow.keras.layers import Convolution2D, Dense, Flatten, MaxPooling2D"
      ],
      "execution_count": null,
      "outputs": []
    },
    {
      "cell_type": "code",
      "metadata": {
        "id": "mRyXjgBsIpOU",
        "colab": {
          "base_uri": "https://localhost:8080/"
        },
        "outputId": "060b9e2e-e854-4a57-e5ba-520fe84edd6f"
      },
      "source": [
        "model = Model(input_shape=(64, 64, 3))\n",
        "model.add(Convolution2D(32,3,3, input_shape = (64,64,3), activation = 'relu'))\n",
        "model.add(MaxPooling2D(pool_size = (2,2)))\n",
        "model.add(Flatten())\n",
        "model.add(Dense(units=128, activation='relu'))\n",
        "model.add(Dense(units=1, activation='sigmoid'))\n",
        "model.summary()\n"
      ],
      "execution_count": null,
      "outputs": [
        {
          "output_type": "stream",
          "text": [
            "Model: \"sequential_2\"\n",
            "_________________________________________________________________\n",
            "Layer (type)                 Output Shape              Param #   \n",
            "=================================================================\n",
            "conv2d_2 (Conv2D)            (None, 21, 21, 32)        896       \n",
            "_________________________________________________________________\n",
            "max_pooling2d_2 (MaxPooling2 (None, 10, 10, 32)        0         \n",
            "_________________________________________________________________\n",
            "flatten_2 (Flatten)          (None, 3200)              0         \n",
            "_________________________________________________________________\n",
            "dense_4 (Dense)              (None, 128)               409728    \n",
            "_________________________________________________________________\n",
            "dense_5 (Dense)              (None, 1)                 129       \n",
            "=================================================================\n",
            "Total params: 410,753\n",
            "Trainable params: 410,753\n",
            "Non-trainable params: 0\n",
            "_________________________________________________________________\n"
          ],
          "name": "stdout"
        }
      ]
    },
    {
      "cell_type": "code",
      "metadata": {
        "id": "5S6rapP5I1R0"
      },
      "source": [
        "model.compile(optimizer = 'adam', loss = 'binary_crossentropy', metrics = ['accuracy'])"
      ],
      "execution_count": null,
      "outputs": []
    },
    {
      "cell_type": "code",
      "metadata": {
        "colab": {
          "base_uri": "https://localhost:8080/"
        },
        "id": "aPdbRha2I3Ac",
        "outputId": "238cf06e-5d8c-457f-c8cf-87bb15ebb6de"
      },
      "source": [
        "model.fit(x = training_set, validation_data = test_set, epochs = 20)"
      ],
      "execution_count": null,
      "outputs": [
        {
          "output_type": "stream",
          "text": [
            "Epoch 1/20\n",
            "251/251 [==============================] - 40s 159ms/step - loss: 0.6849 - accuracy: 0.5468 - val_loss: 0.6554 - val_accuracy: 0.6035\n",
            "Epoch 2/20\n",
            "251/251 [==============================] - 39s 157ms/step - loss: 0.6112 - accuracy: 0.6600 - val_loss: 0.6064 - val_accuracy: 0.6670\n",
            "Epoch 3/20\n",
            "251/251 [==============================] - 39s 157ms/step - loss: 0.5883 - accuracy: 0.6865 - val_loss: 0.5786 - val_accuracy: 0.7045\n",
            "Epoch 4/20\n",
            "251/251 [==============================] - 39s 154ms/step - loss: 0.5801 - accuracy: 0.6937 - val_loss: 0.5509 - val_accuracy: 0.7235\n",
            "Epoch 5/20\n",
            "251/251 [==============================] - 39s 156ms/step - loss: 0.5420 - accuracy: 0.7254 - val_loss: 0.5470 - val_accuracy: 0.7310\n",
            "Epoch 6/20\n",
            "251/251 [==============================] - 39s 155ms/step - loss: 0.5415 - accuracy: 0.7212 - val_loss: 0.5697 - val_accuracy: 0.7120\n",
            "Epoch 7/20\n",
            "251/251 [==============================] - 40s 159ms/step - loss: 0.5254 - accuracy: 0.7332 - val_loss: 0.5436 - val_accuracy: 0.7330\n",
            "Epoch 8/20\n",
            "251/251 [==============================] - 38s 153ms/step - loss: 0.5166 - accuracy: 0.7491 - val_loss: 0.5397 - val_accuracy: 0.7310\n",
            "Epoch 9/20\n",
            "251/251 [==============================] - 39s 154ms/step - loss: 0.5041 - accuracy: 0.7518 - val_loss: 0.5454 - val_accuracy: 0.7335\n",
            "Epoch 10/20\n",
            "251/251 [==============================] - 39s 154ms/step - loss: 0.4917 - accuracy: 0.7558 - val_loss: 0.5132 - val_accuracy: 0.7605\n",
            "Epoch 11/20\n",
            "251/251 [==============================] - 39s 155ms/step - loss: 0.4804 - accuracy: 0.7680 - val_loss: 0.5071 - val_accuracy: 0.7655\n",
            "Epoch 12/20\n",
            "251/251 [==============================] - 39s 154ms/step - loss: 0.4930 - accuracy: 0.7620 - val_loss: 0.5366 - val_accuracy: 0.7340\n",
            "Epoch 13/20\n",
            "251/251 [==============================] - 39s 156ms/step - loss: 0.4848 - accuracy: 0.7650 - val_loss: 0.5755 - val_accuracy: 0.7165\n",
            "Epoch 14/20\n",
            "251/251 [==============================] - 39s 154ms/step - loss: 0.4745 - accuracy: 0.7776 - val_loss: 0.5107 - val_accuracy: 0.7535\n",
            "Epoch 15/20\n",
            "251/251 [==============================] - 40s 158ms/step - loss: 0.4622 - accuracy: 0.7769 - val_loss: 0.5372 - val_accuracy: 0.7405\n",
            "Epoch 16/20\n",
            "251/251 [==============================] - 38s 153ms/step - loss: 0.4753 - accuracy: 0.7701 - val_loss: 0.5089 - val_accuracy: 0.7620\n",
            "Epoch 17/20\n",
            "251/251 [==============================] - 39s 154ms/step - loss: 0.4750 - accuracy: 0.7731 - val_loss: 0.5978 - val_accuracy: 0.7185\n",
            "Epoch 18/20\n",
            "251/251 [==============================] - 39s 155ms/step - loss: 0.4529 - accuracy: 0.7829 - val_loss: 0.5172 - val_accuracy: 0.7525\n",
            "Epoch 19/20\n",
            "251/251 [==============================] - 39s 155ms/step - loss: 0.4604 - accuracy: 0.7837 - val_loss: 0.4977 - val_accuracy: 0.7645\n",
            "Epoch 20/20\n",
            "251/251 [==============================] - 39s 156ms/step - loss: 0.4521 - accuracy: 0.7850 - val_loss: 0.5056 - val_accuracy: 0.7620\n"
          ],
          "name": "stdout"
        },
        {
          "output_type": "execute_result",
          "data": {
            "text/plain": [
              "<tensorflow.python.keras.callbacks.History at 0x7f81e03c9b38>"
            ]
          },
          "metadata": {
            "tags": []
          },
          "execution_count": 38
        }
      ]
    },
    {
      "cell_type": "code",
      "metadata": {
        "colab": {
          "base_uri": "https://localhost:8080/"
        },
        "id": "qhI7y8djV-xl",
        "outputId": "3f98f3d1-10b8-44ae-9df7-775ddc87c6e5"
      },
      "source": [
        "%tensorflow_version 2.x\n",
        "import tensorflow as tf\n",
        "device_name = tf.test.gpu_device_name()\n",
        "if device_name != '/device:GPU:0':\n",
        "  raise SystemError('GPU device not found')\n",
        "print('Found GPU at: {}'.format(device_name))"
      ],
      "execution_count": null,
      "outputs": [
        {
          "output_type": "stream",
          "text": [
            "Found GPU at: /device:GPU:0\n"
          ],
          "name": "stdout"
        }
      ]
    },
    {
      "cell_type": "code",
      "metadata": {
        "id": "cVZxQS7vXSrD",
        "colab": {
          "base_uri": "https://localhost:8080/"
        },
        "outputId": "baea87af-54da-468d-c2c0-7df625fdb02f"
      },
      "source": [
        "history = model.fit(x = training_set, validation_data = test_set, epochs = 20)\n"
      ],
      "execution_count": null,
      "outputs": [
        {
          "output_type": "stream",
          "text": [
            "Epoch 1/20\n",
            "251/251 [==============================] - 41s 164ms/step - loss: 0.4442 - accuracy: 0.7870 - val_loss: 0.5070 - val_accuracy: 0.7655\n",
            "Epoch 2/20\n",
            "251/251 [==============================] - 42s 168ms/step - loss: 0.4445 - accuracy: 0.7918 - val_loss: 0.5033 - val_accuracy: 0.7660\n",
            "Epoch 3/20\n",
            "251/251 [==============================] - 41s 164ms/step - loss: 0.4336 - accuracy: 0.7961 - val_loss: 0.5200 - val_accuracy: 0.7520\n",
            "Epoch 4/20\n",
            "251/251 [==============================] - 41s 164ms/step - loss: 0.4350 - accuracy: 0.7963 - val_loss: 0.5077 - val_accuracy: 0.7685\n",
            "Epoch 5/20\n",
            "251/251 [==============================] - 42s 168ms/step - loss: 0.4337 - accuracy: 0.7943 - val_loss: 0.5318 - val_accuracy: 0.7520\n",
            "Epoch 6/20\n",
            "251/251 [==============================] - 42s 166ms/step - loss: 0.4191 - accuracy: 0.8054 - val_loss: 0.5099 - val_accuracy: 0.7775\n",
            "Epoch 7/20\n",
            "251/251 [==============================] - 41s 164ms/step - loss: 0.4207 - accuracy: 0.8019 - val_loss: 0.5249 - val_accuracy: 0.7690\n",
            "Epoch 8/20\n",
            "251/251 [==============================] - 41s 164ms/step - loss: 0.4291 - accuracy: 0.7979 - val_loss: 0.5044 - val_accuracy: 0.7625\n",
            "Epoch 9/20\n",
            "251/251 [==============================] - 41s 162ms/step - loss: 0.4086 - accuracy: 0.8105 - val_loss: 0.4992 - val_accuracy: 0.7660\n",
            "Epoch 10/20\n",
            "251/251 [==============================] - 41s 165ms/step - loss: 0.4016 - accuracy: 0.8134 - val_loss: 0.4934 - val_accuracy: 0.7780\n",
            "Epoch 11/20\n",
            "251/251 [==============================] - 40s 160ms/step - loss: 0.4042 - accuracy: 0.8146 - val_loss: 0.5025 - val_accuracy: 0.7650\n",
            "Epoch 12/20\n",
            "251/251 [==============================] - 43s 170ms/step - loss: 0.3993 - accuracy: 0.8215 - val_loss: 0.4978 - val_accuracy: 0.7770\n",
            "Epoch 13/20\n",
            "251/251 [==============================] - 43s 172ms/step - loss: 0.3998 - accuracy: 0.8159 - val_loss: 0.4968 - val_accuracy: 0.7865\n",
            "Epoch 14/20\n",
            "251/251 [==============================] - 43s 171ms/step - loss: 0.3865 - accuracy: 0.8249 - val_loss: 0.5760 - val_accuracy: 0.7470\n",
            "Epoch 15/20\n",
            "251/251 [==============================] - 42s 166ms/step - loss: 0.3828 - accuracy: 0.8252 - val_loss: 0.5051 - val_accuracy: 0.7770\n",
            "Epoch 16/20\n",
            "251/251 [==============================] - 42s 168ms/step - loss: 0.3811 - accuracy: 0.8274 - val_loss: 0.5099 - val_accuracy: 0.7820\n",
            "Epoch 17/20\n",
            "251/251 [==============================] - 42s 169ms/step - loss: 0.3828 - accuracy: 0.8260 - val_loss: 0.5293 - val_accuracy: 0.7705\n",
            "Epoch 18/20\n",
            "251/251 [==============================] - 43s 170ms/step - loss: 0.3803 - accuracy: 0.8305 - val_loss: 0.5700 - val_accuracy: 0.7515\n",
            "Epoch 19/20\n",
            "251/251 [==============================] - 43s 173ms/step - loss: 0.3657 - accuracy: 0.8381 - val_loss: 0.5081 - val_accuracy: 0.7810\n",
            "Epoch 20/20\n",
            "251/251 [==============================] - 44s 177ms/step - loss: 0.3565 - accuracy: 0.8420 - val_loss: 0.5286 - val_accuracy: 0.7765\n"
          ],
          "name": "stdout"
        }
      ]
    },
    {
      "cell_type": "code",
      "metadata": {
        "id": "ZiNLi109-Iu1"
      },
      "source": [
        "model.Dropout(0.2)"
      ],
      "execution_count": null,
      "outputs": []
    },
    {
      "cell_type": "code",
      "metadata": {
        "id": "THMHp5FqVNbZ"
      },
      "source": [
        "%matplotlib inline\n",
        "from matplotlib import pyplot as plt"
      ],
      "execution_count": null,
      "outputs": []
    },
    {
      "cell_type": "code",
      "metadata": {
        "colab": {
          "base_uri": "https://localhost:8080/",
          "height": 282
        },
        "id": "fXEuWT7tVNMt",
        "outputId": "adaceeb8-8883-47ff-ed41-3e611d9e6c41"
      },
      "source": [
        "plt.plot(history.history['loss'])"
      ],
      "execution_count": null,
      "outputs": [
        {
          "output_type": "execute_result",
          "data": {
            "text/plain": [
              "[<matplotlib.lines.Line2D at 0x7f81630d7b38>]"
            ]
          },
          "metadata": {
            "tags": []
          },
          "execution_count": 45
        },
        {
          "output_type": "display_data",
          "data": {
            "image/png": "[encoded data removed]",
            "text/plain": [
              "<Figure size 432x288 with 1 Axes>"
            ]
          },
          "metadata": {
            "tags": [],
            "needs_background": "light"
          }
        }
      ]
    },
    {
      "cell_type": "markdown",
      "metadata": {
        "id": "7_PRgvReb_i-"
      },
      "source": [
        "Modified model with a second Convolutional Layer\n"
      ]
    },
    {
      "cell_type": "code",
      "metadata": {
        "colab": {
          "base_uri": "https://localhost:8080/"
        },
        "id": "JG1lzfYTan3R",
        "outputId": "12828f46-de1a-4663-c06a-39c9ea9cbb8b"
      },
      "source": [
        "model = Sequential()\n",
        "model.add(Convolution2D(32,3,3, input_shape = (64,64,3), activation = 'relu'))\n",
        "model.add(MaxPooling2D(pool_size = (2,2)))\n",
        "model.add(Convolution2D(32,3,3, activation = 'relu'))\n",
        "model.add(MaxPooling2D(pool_size = (2,2)))\n",
        "model.add(Flatten())\n",
        "model.add(Dense(units=128, activation='relu'))\n",
        "model.add(Dense(units=1, activation='sigmoid'))\n",
        "model.summary()\n"
      ],
      "execution_count": null,
      "outputs": [
        {
          "output_type": "stream",
          "text": [
            "Model: \"sequential_3\"\n",
            "_________________________________________________________________\n",
            "Layer (type)                 Output Shape              Param #   \n",
            "=================================================================\n",
            "conv2d_3 (Conv2D)            (None, 21, 21, 32)        896       \n",
            "_________________________________________________________________\n",
            "max_pooling2d_3 (MaxPooling2 (None, 10, 10, 32)        0         \n",
            "_________________________________________________________________\n",
            "conv2d_4 (Conv2D)            (None, 3, 3, 32)          9248      \n",
            "_________________________________________________________________\n",
            "max_pooling2d_4 (MaxPooling2 (None, 1, 1, 32)          0         \n",
            "_________________________________________________________________\n",
            "flatten_3 (Flatten)          (None, 32)                0         \n",
            "_________________________________________________________________\n",
            "dense_6 (Dense)              (None, 128)               4224      \n",
            "_________________________________________________________________\n",
            "dense_7 (Dense)              (None, 1)                 129       \n",
            "=================================================================\n",
            "Total params: 14,497\n",
            "Trainable params: 14,497\n",
            "Non-trainable params: 0\n",
            "_________________________________________________________________\n"
          ],
          "name": "stdout"
        }
      ]
    },
    {
      "cell_type": "code",
      "metadata": {
        "id": "_raHBmPKbxPI"
      },
      "source": [
        "model.compile(optimizer = 'adam', loss = 'binary_crossentropy', metrics = ['accuracy'])"
      ],
      "execution_count": null,
      "outputs": []
    },
    {
      "cell_type": "code",
      "metadata": {
        "colab": {
          "base_uri": "https://localhost:8080/"
        },
        "id": "PuX2Mtpcb3TU",
        "outputId": "ce7ae23b-d3fd-43c0-ec39-573ed3df1b44"
      },
      "source": [
        "model.fit(x = training_set, validation_data = test_set, epochs = 20)"
      ],
      "execution_count": null,
      "outputs": [
        {
          "output_type": "stream",
          "text": [
            "Epoch 1/20\n",
            "251/251 [==============================] - 42s 167ms/step - loss: 0.6937 - accuracy: 0.5045 - val_loss: 0.6905 - val_accuracy: 0.5360\n",
            "Epoch 2/20\n",
            "251/251 [==============================] - 41s 163ms/step - loss: 0.6910 - accuracy: 0.5259 - val_loss: 0.6869 - val_accuracy: 0.5795\n",
            "Epoch 3/20\n",
            "251/251 [==============================] - 41s 163ms/step - loss: 0.6855 - accuracy: 0.5502 - val_loss: 0.6639 - val_accuracy: 0.6010\n",
            "Epoch 4/20\n",
            "251/251 [==============================] - 40s 159ms/step - loss: 0.6671 - accuracy: 0.5875 - val_loss: 0.6844 - val_accuracy: 0.5785\n",
            "Epoch 5/20\n",
            "251/251 [==============================] - 39s 157ms/step - loss: 0.6570 - accuracy: 0.6056 - val_loss: 0.6731 - val_accuracy: 0.6085\n",
            "Epoch 6/20\n",
            "251/251 [==============================] - 38s 153ms/step - loss: 0.6410 - accuracy: 0.6252 - val_loss: 0.6455 - val_accuracy: 0.6280\n",
            "Epoch 7/20\n",
            "251/251 [==============================] - 39s 155ms/step - loss: 0.6300 - accuracy: 0.6526 - val_loss: 0.6313 - val_accuracy: 0.6470\n",
            "Epoch 8/20\n",
            "251/251 [==============================] - 40s 158ms/step - loss: 0.6284 - accuracy: 0.6459 - val_loss: 0.6233 - val_accuracy: 0.6665\n",
            "Epoch 9/20\n",
            "251/251 [==============================] - 39s 156ms/step - loss: 0.6071 - accuracy: 0.6710 - val_loss: 0.6796 - val_accuracy: 0.6040\n",
            "Epoch 10/20\n",
            "251/251 [==============================] - 39s 155ms/step - loss: 0.6169 - accuracy: 0.6601 - val_loss: 0.6303 - val_accuracy: 0.6570\n",
            "Epoch 11/20\n",
            "251/251 [==============================] - 39s 156ms/step - loss: 0.5973 - accuracy: 0.6773 - val_loss: 0.6078 - val_accuracy: 0.6710\n",
            "Epoch 12/20\n",
            "251/251 [==============================] - 39s 154ms/step - loss: 0.5986 - accuracy: 0.6737 - val_loss: 0.6101 - val_accuracy: 0.6710\n",
            "Epoch 13/20\n",
            "251/251 [==============================] - 39s 157ms/step - loss: 0.6039 - accuracy: 0.6735 - val_loss: 0.6084 - val_accuracy: 0.6820\n",
            "Epoch 14/20\n",
            "251/251 [==============================] - 39s 155ms/step - loss: 0.5941 - accuracy: 0.6831 - val_loss: 0.6098 - val_accuracy: 0.6700\n",
            "Epoch 15/20\n",
            "251/251 [==============================] - 39s 156ms/step - loss: 0.5828 - accuracy: 0.6849 - val_loss: 0.6942 - val_accuracy: 0.6205\n",
            "Epoch 16/20\n",
            "251/251 [==============================] - 39s 157ms/step - loss: 0.5975 - accuracy: 0.6687 - val_loss: 0.6014 - val_accuracy: 0.6790\n",
            "Epoch 17/20\n",
            "251/251 [==============================] - 39s 154ms/step - loss: 0.5732 - accuracy: 0.6936 - val_loss: 0.6078 - val_accuracy: 0.6695\n",
            "Epoch 18/20\n",
            "251/251 [==============================] - 39s 154ms/step - loss: 0.5758 - accuracy: 0.6953 - val_loss: 0.5958 - val_accuracy: 0.6840\n",
            "Epoch 19/20\n",
            "251/251 [==============================] - 41s 164ms/step - loss: 0.5690 - accuracy: 0.6997 - val_loss: 0.5957 - val_accuracy: 0.6845\n",
            "Epoch 20/20\n",
            "251/251 [==============================] - 44s 174ms/step - loss: 0.5716 - accuracy: 0.6976 - val_loss: 0.5924 - val_accuracy: 0.6965\n"
          ],
          "name": "stdout"
        },
        {
          "output_type": "execute_result",
          "data": {
            "text/plain": [
              "<tensorflow.python.keras.callbacks.History at 0x7f819c061630>"
            ]
          },
          "metadata": {
            "tags": []
          },
          "execution_count": 44
        }
      ]
    },
    {
      "cell_type": "code",
      "metadata": {
        "id": "Nb1lZVgXb6UE"
      },
      "source": [
        "import numpy as np"
      ],
      "execution_count": null,
      "outputs": []
    },
    {
      "cell_type": "code",
      "metadata": {
        "id": "XLa96FTniir9"
      },
      "source": [
        "from keras.preprocessing import image"
      ],
      "execution_count": null,
      "outputs": []
    },
    {
      "cell_type": "code",
      "metadata": {
        "id": "GZ9QnAR_ir2H"
      },
      "source": [
        "test_image = image.load_img('/content/gdrive/My Drive/dataset/single_prediction/cat_or_dog_1.jpg',target_size = (64, 64))"
      ],
      "execution_count": null,
      "outputs": []
    },
    {
      "cell_type": "code",
      "metadata": {
        "colab": {
          "base_uri": "https://localhost:8080/",
          "height": 81
        },
        "id": "XdBqXhQrltTg",
        "outputId": "b8c74ebf-d08b-40d8-b0c4-c50bcdd23600"
      },
      "source": [
        "test_image"
      ],
      "execution_count": null,
      "outputs": [
        {
          "output_type": "execute_result",
          "data": {
            "image/png": "[encoded data removed]",
            "text/plain": [
              "<PIL.Image.Image image mode=RGB size=64x64 at 0x7F8162D17E10>"
            ]
          },
          "metadata": {
            "tags": []
          },
          "execution_count": 62
        }
      ]
    },
    {
      "cell_type": "code",
      "metadata": {
        "id": "k60Ye6whlzFx"
      },
      "source": [
        "test_image = image.img_to_array(test_image)"
      ],
      "execution_count": null,
      "outputs": []
    },
    {
      "cell_type": "code",
      "metadata": {
        "id": "WxdkNDPHme4n"
      },
      "source": [
        "test_image = np.expand_dims(test_image, axis =0)"
      ],
      "execution_count": null,
      "outputs": []
    },
    {
      "cell_type": "code",
      "metadata": {
        "id": "5lA64sr0pXP9"
      },
      "source": [
        "prediction = model.predict(test_image)"
      ],
      "execution_count": null,
      "outputs": []
    },
    {
      "cell_type": "code",
      "metadata": {
        "colab": {
          "base_uri": "https://localhost:8080/"
        },
        "id": "-E1QYlLKph9S",
        "outputId": "a21a9c7f-aada-49cf-e73e-9eccf29becb1"
      },
      "source": [
        "prediction"
      ],
      "execution_count": null,
      "outputs": [
        {
          "output_type": "execute_result",
          "data": {
            "text/plain": [
              "array([[1.]], dtype=float32)"
            ]
          },
          "metadata": {
            "tags": []
          },
          "execution_count": 66
        }
      ]
    },
    {
      "cell_type": "code",
      "metadata": {
        "colab": {
          "base_uri": "https://localhost:8080/"
        },
        "id": "OZmccS3Op2Rp",
        "outputId": "f19d0025-3108-4889-c065-7ce0f4f24ea2"
      },
      "source": [
        "training_set.class_indices"
      ],
      "execution_count": null,
      "outputs": [
        {
          "output_type": "execute_result",
          "data": {
            "text/plain": [
              "{'cats': 0, 'dogs': 1}"
            ]
          },
          "metadata": {
            "tags": []
          },
          "execution_count": 67
        }
      ]
    },
    {
      "cell_type": "code",
      "metadata": {
        "id": "gcj4wDKSqLxC"
      },
      "source": [
        "if prediction[0][0] == 1:\n",
        "  predictions = 'dog'\n",
        "else:\n",
        "  predictions = 'cat'"
      ],
      "execution_count": null,
      "outputs": []
    },
    {
      "cell_type": "code",
      "metadata": {
        "colab": {
          "base_uri": "https://localhost:8080/"
        },
        "id": "xXXQiiWoqdjF",
        "outputId": "095f46a4-94ea-4b7e-ed68-9dd6ee3dd2ff"
      },
      "source": [
        "prediction"
      ],
      "execution_count": null,
      "outputs": [
        {
          "output_type": "execute_result",
          "data": {
            "text/plain": [
              "array([[1.]], dtype=float32)"
            ]
          },
          "metadata": {
            "tags": []
          },
          "execution_count": 70
        }
      ]
    },
    {
      "cell_type": "code",
      "metadata": {
        "id": "0NTuyF5hqnj3",
        "colab": {
          "base_uri": "https://localhost:8080/",
          "height": 35
        },
        "outputId": "038267f7-5ebe-47ec-be7a-c617e1fc7303"
      },
      "source": [
        "predictions"
      ],
      "execution_count": null,
      "outputs": [
        {
          "output_type": "execute_result",
          "data": {
            "application/vnd.google.colaboratory.intrinsic+json": {
              "type": "string"
            },
            "text/plain": [
              "'dog'"
            ]
          },
          "metadata": {
            "tags": []
          },
          "execution_count": 71
        }
      ]
    },
    {
      "cell_type": "code",
      "metadata": {
        "id": "5b3F4KiDqpj4"
      },
      "source": [
        ""
      ],
      "execution_count": null,
      "outputs": []
    }
  ]
}